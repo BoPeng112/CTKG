{
 "cells": [
  {
   "cell_type": "markdown",
   "metadata": {},
   "source": [
    "## Working with CTKG in Deep Graph Library (DGL)\n",
    "This notebook provides an example of building a heterograph from CTKG in DGL; and some examples of queries on the DGL heterograph. For more information about using DGL please refer to https://www.dgl.ai/ \"\n",
    "This notebook builds on the notebook from DRKG: https://github.com/gnn4dr/DRKG"
   ]
  },
  {
   "cell_type": "code",
   "execution_count": 1,
   "metadata": {},
   "outputs": [
    {
     "name": "stderr",
     "output_type": "stream",
     "text": [
      "Using backend: pytorch\n"
     ]
    }
   ],
   "source": [
    "import pandas as pd\n",
    "import numpy as np\n",
    "import dgl\n",
    "import sys\n",
    "sys.path.insert(1, '../utils')\n",
    "from utils import download_and_extract\n",
    "#download_and_extract()\n",
    "ctkg_file = '../rawdata/ctkg.tsv'\n",
    "df = pd.read_csv(ctkg_file, sep =\"\\t\", header=None)\n",
    "triplets = df.values.tolist()"
   ]
  },
  {
   "cell_type": "markdown",
   "metadata": {},
   "source": [
    "Assign an ID to each node (entity): create a dictionary of node-types: each dictionary further consists of a dictionary mapping node to an ID."
   ]
  },
  {
   "cell_type": "code",
   "execution_count": 2,
   "metadata": {},
   "outputs": [],
   "source": [
    "entity_dictionary = {}\n",
    "def insert_entry(entry, ent_type, dic):\n",
    "    if ent_type not in dic:\n",
    "        dic[ent_type] = {}\n",
    "    ent_n_id = len(dic[ent_type])\n",
    "    if entry not in dic[ent_type]:\n",
    "         dic[ent_type][entry] = ent_n_id\n",
    "    return dic\n",
    "\n",
    "for triple in triplets:\n",
    "    src = triple[0]\n",
    "    split_src = src.split('::')\n",
    "    src_type = split_src[0]\n",
    "    dest = triple[2]\n",
    "    split_dest = dest.split('::')\n",
    "    dest_type = split_dest[0]\n",
    "    insert_entry(src,src_type,entity_dictionary)\n",
    "    insert_entry(dest,dest_type,entity_dictionary)"
   ]
  },
  {
   "cell_type": "markdown",
   "metadata": {},
   "source": [
    "Create a dictionary of relations: the key is the relation and the value is the list of (source node ID, destimation node ID) tuples."
   ]
  },
  {
   "cell_type": "code",
   "execution_count": 3,
   "metadata": {},
   "outputs": [],
   "source": [
    "edge_dictionary={}\n",
    "for triple in triplets:\n",
    "    src = triple[0]\n",
    "    split_src = src.split('::')\n",
    "    src_type = split_src[0]\n",
    "    dest = triple[2]\n",
    "    split_dest = dest.split('::')\n",
    "    dest_type = split_dest[0]\n",
    "    \n",
    "    src_int_id = entity_dictionary[src_type][src]\n",
    "    dest_int_id = entity_dictionary[dest_type][dest]\n",
    "    \n",
    "    pair = (src_int_id,dest_int_id)\n",
    "    etype = (src_type,triple[1],dest_type)\n",
    "    if etype in edge_dictionary:\n",
    "        edge_dictionary[etype] += [pair]\n",
    "    else:\n",
    "        edge_dictionary[etype] = [pair]"
   ]
  },
  {
   "cell_type": "markdown",
   "metadata": {},
   "source": [
    "## Create a DGL heterograph using the dictionary of relations"
   ]
  },
  {
   "cell_type": "code",
   "execution_count": 4,
   "metadata": {},
   "outputs": [],
   "source": [
    "graph = dgl.heterograph(edge_dictionary);"
   ]
  },
  {
   "cell_type": "markdown",
   "metadata": {},
   "source": [
    "## Print the statistics of the created graph"
   ]
  },
  {
   "cell_type": "markdown",
   "metadata": {},
   "source": [
    "Number of nodes for each node-type"
   ]
  },
  {
   "cell_type": "code",
   "execution_count": 5,
   "metadata": {},
   "outputs": [
    {
     "name": "stdout",
     "output_type": "stream",
     "text": [
      "AdverseEvent \t 18546\n",
      "BaselineGroup \t 27068\n",
      "BaselineRecord \t 315533\n",
      "ClusterOutcome \t 200\n",
      "Condition \t 1394\n",
      "DropGroup \t 22272\n",
      "DropRecord \t 123627\n",
      "EventGroup \t 22725\n",
      "Method \t 907\n",
      "Organ \t 27\n",
      "Outcome \t 88386\n",
      "OutcomeAnalysis \t 107294\n",
      "OutcomeGroup \t 32499\n",
      "OutcomeMeasure \t 690626\n",
      "Period \t 34330\n",
      "StandardOutcome \t 492\n",
      "Study \t 8210\n",
      "Term \t 2548\n",
      "Graph contains 1496684 nodes from 18 node-types.\n"
     ]
    }
   ],
   "source": [
    "total_nodes = 0;\n",
    "for ntype in graph.ntypes:\n",
    "    print(ntype, '\\t', graph.number_of_nodes(ntype));\n",
    "    total_nodes += graph.number_of_nodes(ntype);\n",
    "print(\"Graph contains {} nodes from {} node-types.\".format(total_nodes, len(graph.ntypes)))"
   ]
  },
  {
   "cell_type": "markdown",
   "metadata": {},
   "source": [
    "Number of edges for each relation (edge-type)"
   ]
  },
  {
   "cell_type": "code",
   "execution_count": 6,
   "metadata": {},
   "outputs": [
    {
     "name": "stdout",
     "output_type": "stream",
     "text": [
      "adverseevent::eventgroup \t 966450\n",
      "adverseevent::organ \t 18546\n",
      "baselinegroup::baselinerecord \t 315533\n",
      "baselinegroup::study \t 27068\n",
      "baselinerecord::baselinegroup \t 315533\n",
      "clusteroutcome::outcome \t 88244\n",
      "condition::study \t 17259\n",
      "dropgroup::period \t 34330\n",
      "dropgroup::study \t 22272\n",
      "droprecord::period \t 123627\n",
      "eventgroup::adverseevent \t 966450\n",
      "eventgroup::study \t 22725\n",
      "eventgroup::term \t 33453\n",
      "method::outcomeanalysis \t 91463\n",
      "organ::adverseevent \t 18546\n",
      "outcome::clusteroutcome \t 88244\n",
      "outcome::outcomeanalysis \t 107294\n",
      "outcome::outcomemeasure \t 690626\n",
      "outcome::standardoutcome \t 58819\n",
      "outcome::study \t 88386\n",
      "outcomeanalysis::method \t 91463\n",
      "outcomeanalysis::outcome \t 107294\n",
      "outcomeanalysis::outcomegroup \t 209314\n",
      "outcomegroup::outcomeanalysis \t 209314\n",
      "outcomegroup::outcomemeasure \t 690541\n",
      "outcomegroup::study \t 32499\n",
      "outcomemeasure::outcome \t 690626\n",
      "outcomemeasure::outcomegroup \t 690541\n",
      "period::dropgroup \t 34330\n",
      "period::droprecord \t 123627\n",
      "standardoutcome::outcome \t 58819\n",
      "study::baselinegroup \t 27068\n",
      "study::condition \t 17259\n",
      "study::dropgroup \t 22272\n",
      "study::eventgroup \t 22725\n",
      "study::outcome \t 88386\n",
      "study::outcomegroup \t 32499\n",
      "study::studiedTerm \t 23188\n",
      "study::usedTerm \t 6113\n",
      "studiedTerm::study \t 23188\n",
      "term::eventgroup \t 33453\n",
      "usedTerm::study \t 6113\n",
      "Graph contains 7335500 edges from 42 edge-types.\n"
     ]
    }
   ],
   "source": [
    "total_edges = 0;\n",
    "for etype in graph.etypes:\n",
    "    print(etype, '\\t', graph.number_of_edges(etype))\n",
    "    total_edges += graph.number_of_edges(etype);\n",
    "print(\"Graph contains {} edges from {} edge-types.\".format(total_edges, len(graph.etypes)))"
   ]
  },
  {
   "cell_type": "markdown",
   "metadata": {},
   "source": [
    "Just printing the graph (\"print(graph)\") will also print the graph summary"
   ]
  },
  {
   "cell_type": "code",
   "execution_count": 7,
   "metadata": {},
   "outputs": [
    {
     "name": "stdout",
     "output_type": "stream",
     "text": [
      "Graph(num_nodes={'AdverseEvent': 18546, 'BaselineGroup': 27068, 'BaselineRecord': 315533, 'ClusterOutcome': 200, 'Condition': 1394, 'DropGroup': 22272, 'DropRecord': 123627, 'EventGroup': 22725, 'Method': 907, 'Organ': 27, 'Outcome': 88386, 'OutcomeAnalysis': 107294, 'OutcomeGroup': 32499, 'OutcomeMeasure': 690626, 'Period': 34330, 'StandardOutcome': 492, 'Study': 8210, 'Term': 2548},\n",
      "      num_edges={('AdverseEvent', 'adverseevent::eventgroup', 'EventGroup'): 966450, ('AdverseEvent', 'adverseevent::organ', 'Organ'): 18546, ('BaselineGroup', 'baselinegroup::baselinerecord', 'BaselineRecord'): 315533, ('BaselineGroup', 'baselinegroup::study', 'Study'): 27068, ('BaselineRecord', 'baselinerecord::baselinegroup', 'BaselineGroup'): 315533, ('ClusterOutcome', 'clusteroutcome::outcome', 'Outcome'): 88244, ('Condition', 'condition::study', 'Study'): 17259, ('DropGroup', 'dropgroup::period', 'Period'): 34330, ('DropGroup', 'dropgroup::study', 'Study'): 22272, ('DropRecord', 'droprecord::period', 'Period'): 123627, ('EventGroup', 'eventgroup::adverseevent', 'AdverseEvent'): 966450, ('EventGroup', 'eventgroup::study', 'Study'): 22725, ('EventGroup', 'eventgroup::term', 'Term'): 33453, ('Method', 'method::outcomeanalysis', 'OutcomeAnalysis'): 91463, ('Organ', 'organ::adverseevent', 'AdverseEvent'): 18546, ('Outcome', 'outcome::clusteroutcome', 'ClusterOutcome'): 88244, ('Outcome', 'outcome::outcomeanalysis', 'OutcomeAnalysis'): 107294, ('Outcome', 'outcome::outcomemeasure', 'OutcomeMeasure'): 690626, ('Outcome', 'outcome::standardoutcome', 'StandardOutcome'): 58819, ('Outcome', 'outcome::study', 'Study'): 88386, ('OutcomeAnalysis', 'outcomeanalysis::method', 'Method'): 91463, ('OutcomeAnalysis', 'outcomeanalysis::outcome', 'Outcome'): 107294, ('OutcomeAnalysis', 'outcomeanalysis::outcomegroup', 'OutcomeGroup'): 209314, ('OutcomeGroup', 'outcomegroup::outcomeanalysis', 'OutcomeAnalysis'): 209314, ('OutcomeGroup', 'outcomegroup::outcomemeasure', 'OutcomeMeasure'): 690541, ('OutcomeGroup', 'outcomegroup::study', 'Study'): 32499, ('OutcomeMeasure', 'outcomemeasure::outcome', 'Outcome'): 690626, ('OutcomeMeasure', 'outcomemeasure::outcomegroup', 'OutcomeGroup'): 690541, ('Period', 'period::dropgroup', 'DropGroup'): 34330, ('Period', 'period::droprecord', 'DropRecord'): 123627, ('StandardOutcome', 'standardoutcome::outcome', 'Outcome'): 58819, ('Study', 'study::baselinegroup', 'BaselineGroup'): 27068, ('Study', 'study::condition', 'Condition'): 17259, ('Study', 'study::dropgroup', 'DropGroup'): 22272, ('Study', 'study::eventgroup', 'EventGroup'): 22725, ('Study', 'study::outcome', 'Outcome'): 88386, ('Study', 'study::outcomegroup', 'OutcomeGroup'): 32499, ('Study', 'study::studiedTerm', 'Term'): 23188, ('Study', 'study::usedTerm', 'Term'): 6113, ('Term', 'studiedTerm::study', 'Study'): 23188, ('Term', 'term::eventgroup', 'EventGroup'): 33453, ('Term', 'usedTerm::study', 'Study'): 6113},\n",
      "      metagraph=[('AdverseEvent', 'EventGroup', 'adverseevent::eventgroup'), ('AdverseEvent', 'Organ', 'adverseevent::organ'), ('EventGroup', 'AdverseEvent', 'eventgroup::adverseevent'), ('EventGroup', 'Study', 'eventgroup::study'), ('EventGroup', 'Term', 'eventgroup::term'), ('Organ', 'AdverseEvent', 'organ::adverseevent'), ('BaselineGroup', 'BaselineRecord', 'baselinegroup::baselinerecord'), ('BaselineGroup', 'Study', 'baselinegroup::study'), ('BaselineRecord', 'BaselineGroup', 'baselinerecord::baselinegroup'), ('Study', 'BaselineGroup', 'study::baselinegroup'), ('Study', 'Condition', 'study::condition'), ('Study', 'DropGroup', 'study::dropgroup'), ('Study', 'EventGroup', 'study::eventgroup'), ('Study', 'Outcome', 'study::outcome'), ('Study', 'OutcomeGroup', 'study::outcomegroup'), ('Study', 'Term', 'study::studiedTerm'), ('Study', 'Term', 'study::usedTerm'), ('ClusterOutcome', 'Outcome', 'clusteroutcome::outcome'), ('Outcome', 'ClusterOutcome', 'outcome::clusteroutcome'), ('Outcome', 'OutcomeAnalysis', 'outcome::outcomeanalysis'), ('Outcome', 'OutcomeMeasure', 'outcome::outcomemeasure'), ('Outcome', 'StandardOutcome', 'outcome::standardoutcome'), ('Outcome', 'Study', 'outcome::study'), ('Condition', 'Study', 'condition::study'), ('DropGroup', 'Period', 'dropgroup::period'), ('DropGroup', 'Study', 'dropgroup::study'), ('Period', 'DropGroup', 'period::dropgroup'), ('Period', 'DropRecord', 'period::droprecord'), ('DropRecord', 'Period', 'droprecord::period'), ('Term', 'Study', 'studiedTerm::study'), ('Term', 'Study', 'usedTerm::study'), ('Term', 'EventGroup', 'term::eventgroup'), ('Method', 'OutcomeAnalysis', 'method::outcomeanalysis'), ('OutcomeAnalysis', 'Method', 'outcomeanalysis::method'), ('OutcomeAnalysis', 'Outcome', 'outcomeanalysis::outcome'), ('OutcomeAnalysis', 'OutcomeGroup', 'outcomeanalysis::outcomegroup'), ('OutcomeMeasure', 'Outcome', 'outcomemeasure::outcome'), ('OutcomeMeasure', 'OutcomeGroup', 'outcomemeasure::outcomegroup'), ('StandardOutcome', 'Outcome', 'standardoutcome::outcome'), ('OutcomeGroup', 'OutcomeAnalysis', 'outcomegroup::outcomeanalysis'), ('OutcomeGroup', 'OutcomeMeasure', 'outcomegroup::outcomemeasure'), ('OutcomeGroup', 'Study', 'outcomegroup::study')])\n"
     ]
    }
   ],
   "source": [
    "print(graph)"
   ]
  },
  {
   "cell_type": "code",
   "execution_count": null,
   "metadata": {},
   "outputs": [],
   "source": []
  },
  {
   "cell_type": "code",
   "execution_count": null,
   "metadata": {},
   "outputs": [],
   "source": []
  }
 ],
 "metadata": {
  "kernelspec": {
   "display_name": "Python 3",
   "language": "python",
   "name": "python3"
  },
  "language_info": {
   "codemirror_mode": {
    "name": "ipython",
    "version": 3
   },
   "file_extension": ".py",
   "mimetype": "text/x-python",
   "name": "python",
   "nbconvert_exporter": "python",
   "pygments_lexer": "ipython3",
   "version": "3.8.5"
  }
 },
 "nbformat": 4,
 "nbformat_minor": 2
}
