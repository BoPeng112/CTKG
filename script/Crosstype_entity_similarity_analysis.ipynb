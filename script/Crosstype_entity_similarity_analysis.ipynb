{
 "cells": [
  {
   "cell_type": "code",
   "execution_count": 1,
   "id": "c899f4c9",
   "metadata": {},
   "outputs": [],
   "source": [
    "import pandas as pd\n",
    "import numpy as np\n",
    "import os\n",
    "import csv\n",
    "import pdb"
   ]
  },
  {
   "cell_type": "code",
   "execution_count": 2,
   "id": "8a7a4fef",
   "metadata": {},
   "outputs": [
    {
     "name": "stdout",
     "output_type": "stream",
     "text": [
      "Number of entities in the type: 1394\n",
      "Number of entities in the type: 2548\n"
     ]
    }
   ],
   "source": [
    "type_of_interest_source = 'Condition'\n",
    "type_of_interest_target = 'Term'\n",
    "\n",
    "def indexing(type_of_interest):\n",
    "\n",
    "    entity2id  = {}\n",
    "    id2entity  = {}\n",
    "    cid2entity = {}\n",
    "\n",
    "    cid = 0\n",
    "    with open(\"./train/entities.tsv\", newline='', encoding='utf-8') as csvfile:\n",
    "        reader = csv.DictReader(csvfile, delimiter='\\t', fieldnames=['id','entity'])\n",
    "        for row_val in reader:\n",
    "            type = row_val['entity'].split('::')[0]\n",
    "            if type != type_of_interest:\n",
    "                continue\n",
    "        \n",
    "            id = row_val['id']\n",
    "            entity = row_val['entity']\n",
    "\n",
    "            entity2id[entity] = int(id)\n",
    "            id2entity[int(id)] = entity\n",
    "            cid2entity[cid] = entity\n",
    "            cid += 1\n",
    "\n",
    "    print(\"Number of entities in the type: {}\".format(len(entity2id)))\n",
    "    return entity2id, id2entity, cid2entity\n",
    "\n",
    "entity2id_s, id2entity_s, cid2entity_s = indexing(type_of_interest_source)\n",
    "entity2id_t, id2entity_t, cid2entity_t = indexing(type_of_interest_target)"
   ]
  },
  {
   "cell_type": "code",
   "execution_count": 3,
   "id": "7d77fc1a",
   "metadata": {},
   "outputs": [],
   "source": [
    "def get_entity_name_mapping(type_of_interest):\n",
    "    \n",
    "    attribute_file = '/fs/ess/PAS1440/ziqichen/AACT/build_graph/attributes/' + type_of_interest.lower()+'_attribute.txt'\n",
    "    entity2name = {}\n",
    "    \n",
    "    with open(attribute_file, 'r') as f:\n",
    "        for line in f.readlines():\n",
    "            idx, _, name = line.rstrip('\\n').split(',', 2)\n",
    "            idx = idx.replace(':', '::').replace('ID', '')\n",
    "            entity2name[idx] = name\n",
    "    \n",
    "    return entity2name"
   ]
  },
  {
   "cell_type": "code",
   "execution_count": 4,
   "id": "74e64e3c",
   "metadata": {},
   "outputs": [],
   "source": [
    "entity2name_s = get_entity_name_mapping(type_of_interest_source) if type_of_interest_source != 'Study' else None\n",
    "entity2name_t = get_entity_name_mapping(type_of_interest_target) if type_of_interest_target != 'Study' else None"
   ]
  },
  {
   "cell_type": "code",
   "execution_count": 5,
   "id": "b0298700",
   "metadata": {},
   "outputs": [
    {
     "name": "stdout",
     "output_type": "stream",
     "text": [
      "(1394, 200)\n",
      "(2548, 200)\n"
     ]
    }
   ],
   "source": [
    "entity_emb = np.load('./ckpts/results_in_paper/CTKG_TransE_l2_entity.npy')\n",
    "\n",
    "idx_s = np.asarray(list(id2entity_s.keys()), dtype=int)\n",
    "entity_emb_s = entity_emb[idx_s]\n",
    "\n",
    "idx_t = np.asarray(list(id2entity_t.keys()), dtype=int)\n",
    "entity_emb_t = entity_emb[idx_t]\n",
    "\n",
    "print(entity_emb_s.shape)\n",
    "print(entity_emb_t.shape)"
   ]
  },
  {
   "cell_type": "code",
   "execution_count": 6,
   "id": "abc7d9d4",
   "metadata": {},
   "outputs": [],
   "source": [
    "from sklearn.metrics.pairwise import cosine_similarity\n",
    "\n",
    "similarity = cosine_similarity(entity_emb_s, entity_emb_t)\n",
    "# cleanup self-compare and dup-compare\n",
    "s = similarity < 0.99\n",
    "s = np.unique(similarity[s])"
   ]
  },
  {
   "cell_type": "code",
   "execution_count": 7,
   "id": "63a0b6b9",
   "metadata": {
    "scrolled": true
   },
   "outputs": [
    {
     "data": {
      "image/png": "[encoded data removed]",
      "text/plain": [
       "<Figure size 432x288 with 1 Axes>"
      ]
     },
     "metadata": {
      "needs_background": "light"
     },
     "output_type": "display_data"
    }
   ],
   "source": [
    "import matplotlib.pyplot as plt\n",
    "plt.xlabel('Cosine similarity')\n",
    "plt.ylabel('Number of entity pairs')\n",
    "plt.hist(s)\n",
    "plt.show()"
   ]
  },
  {
   "cell_type": "code",
   "execution_count": 8,
   "id": "b4cfed36",
   "metadata": {},
   "outputs": [
    {
     "name": "stdout",
     "output_type": "stream",
     "text": [
      "(1394, 2548)\n"
     ]
    },
    {
     "data": {
      "text/plain": [
       "[('\"Diabetes Mellitus, Type 2\"', '\"Benzoates\"', 0.5967956),\n",
       " ('\"Diabetes Mellitus, Type 2\"', '\"Pulmonary Surfactants\"', 0.58667976),\n",
       " ('\"Diabetes Mellitus, Type 2\"', '\"Nifurtimox\"', 0.57945114),\n",
       " ('\"Diabetes Mellitus\"', '\"Pulmonary Surfactants\"', 0.5758686),\n",
       " ('\"Lung Neoplasms\"', '\"Triterpenes\"', 0.57446486),\n",
       " ('\"Diabetes Mellitus, Type 2\"', '\"nktr-118\"', 0.5682122),\n",
       " ('\"Squamous Cell Carcinoma of Head and Neck\"', '\"Naloxone\"', 0.56497306),\n",
       " ('\"Lung Neoplasms\"', '\"Uric Acid\"', 0.5638655),\n",
       " ('\"Diabetes Mellitus\"', '\"nktr-118\"', 0.56346107),\n",
       " ('\"Lung Neoplasms\"', '\"Pregnenediones\"', 0.56164813),\n",
       " ('\"Diabetes Mellitus, Type 2\"', '\"florbetapir\"', 0.5598538),\n",
       " ('\"Carcinoma\"', '\"Pregnenediones\"', 0.558044),\n",
       " ('\"Carcinoma\"', '\"Minerals\"', 0.55615157),\n",
       " ('\"Carcinoma, Non-Small-Cell Lung\"', '\"Pregnenediones\"', 0.5539755),\n",
       " ('\"Diabetes Mellitus\"', '\"florbetapir\"', 0.5521817),\n",
       " ('\"Squamous Cell Carcinoma of Head and Neck\"', '\"ziprasidone\"', 0.55130315),\n",
       " ('\"Squamous Cell Carcinoma of Head and Neck\"',\n",
       "  '\"Mycophenolic Acid\"',\n",
       "  0.54788864),\n",
       " ('\"Lung Neoplasms\"', '\"Yttrium-90\"', 0.5471423),\n",
       " ('\"Carcinoma\"', '\"usl261\"', 0.54516613),\n",
       " ('\"Carcinoma\"', '\"drospirenone\"', 0.5440911)]"
      ]
     },
     "execution_count": 8,
     "metadata": {},
     "output_type": "execute_result"
    }
   ],
   "source": [
    "from sklearn.metrics.pairwise import cosine_similarity\n",
    "\n",
    "similarity = cosine_similarity(entity_emb_s, entity_emb_t)\n",
    "print(similarity.shape)\n",
    "idx = np.flip(np.argsort(similarity), axis=1)\n",
    "\n",
    "max_pairs = []\n",
    "for i in range(idx.shape[0]):\n",
    "    j = 1\n",
    "    while (similarity[i][idx[i][j]] > 0.5):\n",
    "        if type_of_interest_source == 'Study':\n",
    "            max_pairs.append((cid2entity_s[idx[i][0]], entity2name_t[cid2entity_t[idx[i][j]]], similarity[i][idx[i][j]]))\n",
    "        else:\n",
    "            max_pairs.append((entity2name_s[cid2entity_s[i]], entity2name_t[cid2entity_t[idx[i][j]]], similarity[i][idx[i][j]]))\n",
    "        j += 1\n",
    "\n",
    "def sort_score(pair):\n",
    "    return pair[2]\n",
    "\n",
    "max_pairs.sort(reverse=True, key=sort_score)\n",
    "sim_pairs = []\n",
    "for i, pair in enumerate(max_pairs):\n",
    "    if i % 2 == 0:\n",
    "        sim_pairs.append(pair)\n",
    "\n",
    "sim_pairs[:20]"
   ]
  },
  {
   "cell_type": "code",
   "execution_count": 9,
   "id": "b19ebd39",
   "metadata": {},
   "outputs": [],
   "source": [
    "#sim_pairs[20:40]"
   ]
  },
  {
   "cell_type": "code",
   "execution_count": 10,
   "id": "614ee92e",
   "metadata": {},
   "outputs": [],
   "source": [
    "#sim_pairs[40:60]"
   ]
  },
  {
   "cell_type": "code",
   "execution_count": 11,
   "id": "6be36a67",
   "metadata": {},
   "outputs": [],
   "source": [
    "#max_pairs[:10]"
   ]
  },
  {
   "cell_type": "code",
   "execution_count": 12,
   "id": "f61e32c1-4f59-4825-9290-3f908e4311c9",
   "metadata": {},
   "outputs": [
    {
     "data": {
      "text/plain": [
       "-0.032962196"
      ]
     },
     "execution_count": 12,
     "metadata": {},
     "output_type": "execute_result"
    }
   ],
   "source": [
    "similarity.mean()"
   ]
  },
  {
   "cell_type": "code",
   "execution_count": 13,
   "id": "8355c936-36bc-4276-8803-5f7028d37703",
   "metadata": {},
   "outputs": [],
   "source": [
    "#max_pairs[1]"
   ]
  },
  {
   "cell_type": "code",
   "execution_count": 14,
   "id": "205e7bd6-cbd9-4362-8ec8-2df96c2cbdb8",
   "metadata": {},
   "outputs": [],
   "source": [
    "#max_pairs[1][0]"
   ]
  },
  {
   "cell_type": "code",
   "execution_count": 15,
   "id": "0204f235-2dc2-4447-8004-8290b535a5d6",
   "metadata": {},
   "outputs": [],
   "source": [
    "#for i, pair in enumerate(max_pairs):\n",
    "#    if pair[0] == 'Study::NCT00782210' and pair[2] > 0.7:\n",
    "#        print(pair)"
   ]
  },
  {
   "cell_type": "code",
   "execution_count": null,
   "id": "fd8e4590-5da8-42ef-8724-f5e9012e80d3",
   "metadata": {},
   "outputs": [],
   "source": []
  }
 ],
 "metadata": {
  "kernelspec": {
   "display_name": "DGL",
   "language": "python",
   "name": "dgl"
  },
  "language_info": {
   "codemirror_mode": {
    "name": "ipython",
    "version": 3
   },
   "file_extension": ".py",
   "mimetype": "text/x-python",
   "name": "python",
   "nbconvert_exporter": "python",
   "pygments_lexer": "ipython3",
   "version": "3.7.11"
  }
 },
 "nbformat": 4,
 "nbformat_minor": 5
}
