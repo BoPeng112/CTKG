{
 "cells": [
  {
   "cell_type": "code",
   "execution_count": 1,
   "id": "c899f4c9",
   "metadata": {},
   "outputs": [],
   "source": [
    "import pandas as pd\n",
    "import numpy as np\n",
    "import os\n",
    "import csv"
   ]
  },
  {
   "cell_type": "code",
   "execution_count": 2,
   "id": "8a7a4fef",
   "metadata": {},
   "outputs": [
    {
     "name": "stdout",
     "output_type": "stream",
     "text": [
      "Number of entities in the type: 8210\n"
     ]
    }
   ],
   "source": [
    "type_of_interest = 'Study'\n",
    "\n",
    "entity2id  = {}\n",
    "id2entity  = {}\n",
    "cid2entity = {}\n",
    "\n",
    "cid = 0\n",
    "with open(\"./train/entities.tsv\", newline='', encoding='utf-8') as csvfile:\n",
    "    reader = csv.DictReader(csvfile, delimiter='\\t', fieldnames=['id','entity'])\n",
    "    for row_val in reader:\n",
    "        type = row_val['entity'].split('::')[0]\n",
    "        if type != type_of_interest:\n",
    "            continue\n",
    "        \n",
    "        id = row_val['id']\n",
    "        entity = row_val['entity']\n",
    "\n",
    "        entity2id[entity] = int(id)\n",
    "        id2entity[int(id)] = entity\n",
    "        cid2entity[cid] = entity\n",
    "        cid += 1\n",
    "\n",
    "print(\"Number of entities in the type: {}\".format(len(entity2id)))"
   ]
  },
  {
   "cell_type": "code",
   "execution_count": 3,
   "id": "7d77fc1a",
   "metadata": {},
   "outputs": [],
   "source": [
    "def get_entity_name_mapping(type_of_interest):\n",
    "    \n",
    "    attribute_file = '/fs/ess/PAS1440/ziqichen/AACT/attributes/' + type_of_interest.lower()+'_attribute.txt'\n",
    "    entity2name = {}\n",
    "    \n",
    "    with open(attribute_file, 'r') as f:\n",
    "        for line in f.readlines():\n",
    "            idx, _, name = line.rstrip('\\n').split(',', 2)\n",
    "            idx = idx.replace(':', '::').replace('ID', '')\n",
    "            entity2name[idx] = name\n",
    "    \n",
    "    return entity2name"
   ]
  },
  {
   "cell_type": "code",
   "execution_count": 4,
   "id": "74e64e3c",
   "metadata": {},
   "outputs": [],
   "source": [
    "if type_of_interest != 'Study':\n",
    "    entity2name = get_entity_name_mapping(type_of_interest)"
   ]
  },
  {
   "cell_type": "code",
   "execution_count": 5,
   "id": "b0298700",
   "metadata": {},
   "outputs": [
    {
     "name": "stdout",
     "output_type": "stream",
     "text": [
      "(8210, 200)\n"
     ]
    }
   ],
   "source": [
    "entity_emb = np.load('./ckpts/TransE_l2_CTKG_0/CTKG_TransE_l2_entity.npy')\n",
    "\n",
    "idx = np.asarray(list(id2entity.keys()), dtype=int)\n",
    "entity_emb = entity_emb[idx]\n",
    "\n",
    "print(entity_emb.shape)"
   ]
  },
  {
   "cell_type": "code",
   "execution_count": 6,
   "id": "abc7d9d4",
   "metadata": {},
   "outputs": [],
   "source": [
    "from sklearn.metrics.pairwise import cosine_similarity\n",
    "\n",
    "similarity = cosine_similarity(entity_emb)\n",
    "# cleanup self-compare and dup-compare\n",
    "s = similarity < 0.99\n",
    "s = np.unique(similarity[s])"
   ]
  },
  {
   "cell_type": "code",
   "execution_count": 7,
   "id": "63a0b6b9",
   "metadata": {},
   "outputs": [
    {
     "data": {
      "image/png": "[encoded data removed]",
      "text/plain": [
       "<Figure size 432x288 with 1 Axes>"
      ]
     },
     "metadata": {
      "needs_background": "light"
     },
     "output_type": "display_data"
    }
   ],
   "source": [
    "import matplotlib.pyplot as plt\n",
    "plt.xlabel('Cosine similarity')\n",
    "plt.ylabel('Number of entity pairs')\n",
    "plt.hist(s)\n",
    "plt.show()"
   ]
  },
  {
   "cell_type": "code",
   "execution_count": 8,
   "id": "b4cfed36",
   "metadata": {},
   "outputs": [
    {
     "data": {
      "text/plain": [
       "[('Study::NCT00793624', 'Study::NCT00796653', 0.8569627),\n",
       " ('Study::NCT00720109', 'Study::NCT00866307', 0.8276812),\n",
       " ('Study::NCT01716585', 'Study::NCT01715415', 0.8198739),\n",
       " ('Study::NCT02006732', 'Study::NCT01964352', 0.81166655),\n",
       " ('Study::NCT00720109', 'Study::NCT00137111', 0.81097716),\n",
       " ('Study::NCT00782509', 'Study::NCT00796653', 0.80594385),\n",
       " ('Study::NCT00866307', 'Study::NCT00137111', 0.8027405),\n",
       " ('Study::NCT00782509', 'Study::NCT00793624', 0.8008093),\n",
       " ('Study::NCT01789255', 'Study::NCT00795769', 0.7992186),\n",
       " ('Study::NCT02216422', 'Study::NCT02219503', 0.7979843),\n",
       " ('Study::NCT02912650', 'Study::NCT01216163', 0.7950812),\n",
       " ('Study::NCT01833533', 'Study::NCT01715415', 0.7944175),\n",
       " ('Study::NCT01098747', 'Study::NCT01216163', 0.7859999),\n",
       " ('Study::NCT02706951', 'Study::NCT02675426', 0.7804427),\n",
       " ('Study::NCT01040728', 'Study::NCT00931385', 0.77864933),\n",
       " ('Study::NCT00551135', 'Study::NCT00442546', 0.777833),\n",
       " ('Study::NCT00782210', 'Study::NCT00793624', 0.7771772),\n",
       " ('Study::NCT01431274', 'Study::NCT01431287', 0.7765937),\n",
       " ('Study::NCT03478683', 'Study::NCT03478696', 0.77367985),\n",
       " ('Study::NCT02367781', 'Study::NCT02367794', 0.7703806)]"
      ]
     },
     "execution_count": 8,
     "metadata": {},
     "output_type": "execute_result"
    }
   ],
   "source": [
    "from sklearn.metrics.pairwise import cosine_similarity\n",
    "\n",
    "similarity = cosine_similarity(entity_emb)\n",
    "idx = np.flip(np.argsort(similarity), axis=1)\n",
    "\n",
    "max_pairs = []\n",
    "for i in range(idx.shape[0]):\n",
    "    j = 1\n",
    "    while (similarity[i][idx[i][j]] > 0.7):\n",
    "        if type_of_interest == 'Study':\n",
    "            max_pairs.append((cid2entity[idx[i][0]], cid2entity[idx[i][j]], similarity[i][idx[i][j]]))\n",
    "        else:\n",
    "            max_pairs.append((entity2name[cid2entity[idx[i][0]]], entity2name[cid2entity[idx[i][j]]], similarity[i][idx[i][j]]))\n",
    "        j += 1\n",
    "\n",
    "def sort_score(pair):\n",
    "    return pair[2]\n",
    "\n",
    "max_pairs.sort(reverse=True, key=sort_score)\n",
    "sim_pairs = []\n",
    "for i, pair in enumerate(max_pairs):\n",
    "    if i % 2 == 0:\n",
    "        sim_pairs.append(pair)\n",
    "\n",
    "sim_pairs[:20]"
   ]
  },
  {
   "cell_type": "code",
   "execution_count": null,
   "id": "b19ebd39",
   "metadata": {},
   "outputs": [],
   "source": []
  }
 ],
 "metadata": {
  "kernelspec": {
   "display_name": "DGL",
   "language": "python",
   "name": "dgl"
  },
  "language_info": {
   "codemirror_mode": {
    "name": "ipython",
    "version": 3
   },
   "file_extension": ".py",
   "mimetype": "text/x-python",
   "name": "python",
   "nbconvert_exporter": "python",
   "pygments_lexer": "ipython3",
   "version": "3.7.11"
  }
 },
 "nbformat": 4,
 "nbformat_minor": 5
}
