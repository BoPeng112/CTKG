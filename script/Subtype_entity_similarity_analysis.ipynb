{
 "cells": [
  {
   "cell_type": "code",
   "execution_count": 1,
   "id": "c899f4c9",
   "metadata": {},
   "outputs": [],
   "source": [
    "import pandas as pd\n",
    "import numpy as np\n",
    "import os\n",
    "import csv"
   ]
  },
  {
   "cell_type": "code",
   "execution_count": 2,
   "id": "8a7a4fef",
   "metadata": {},
   "outputs": [
    {
     "name": "stdout",
     "output_type": "stream",
     "text": [
      "Number of entities in the type: 2548\n"
     ]
    }
   ],
   "source": [
    "type_of_interest = 'Term'\n",
    "\n",
    "entity2id  = {}\n",
    "id2entity  = {}\n",
    "cid2entity = {}\n",
    "\n",
    "cid = 0\n",
    "with open(\"./train/entities.tsv\", newline='', encoding='utf-8') as csvfile:\n",
    "    reader = csv.DictReader(csvfile, delimiter='\\t', fieldnames=['id','entity'])\n",
    "    for row_val in reader:\n",
    "        type = row_val['entity'].split('::')[0]\n",
    "        if type != type_of_interest:\n",
    "            continue\n",
    "        \n",
    "        id = row_val['id']\n",
    "        entity = row_val['entity']\n",
    "\n",
    "        entity2id[entity] = int(id)\n",
    "        id2entity[int(id)] = entity\n",
    "        cid2entity[cid] = entity\n",
    "        cid += 1\n",
    "\n",
    "print(\"Number of entities in the type: {}\".format(len(entity2id)))"
   ]
  },
  {
   "cell_type": "code",
   "execution_count": 3,
   "id": "7d77fc1a",
   "metadata": {},
   "outputs": [],
   "source": [
    "def get_entity_name_mapping(type_of_interest):\n",
    "    \n",
    "    attribute_file = '/fs/ess/PCON0041/Ziqi/AACT/build_graph/attributes/' + type_of_interest.lower()+'_attribute.txt'\n",
    "    entity2name = {}\n",
    "    \n",
    "    with open(attribute_file, 'r') as f:\n",
    "        for line in f.readlines():\n",
    "            try:\n",
    "                idx, _, name, _ = line.rstrip('\\n').split(',', 3)\n",
    "            except:\n",
    "                idx, _, name = line.rstrip('\\n').split(',', 2)\n",
    "            idx = idx.replace(':', '::').replace('ID', '')\n",
    "            entity2name[idx] = name\n",
    "    \n",
    "    return entity2name"
   ]
  },
  {
   "cell_type": "code",
   "execution_count": 4,
   "id": "74e64e3c",
   "metadata": {},
   "outputs": [],
   "source": [
    "if type_of_interest != 'Study':\n",
    "    entity2name = get_entity_name_mapping(type_of_interest)"
   ]
  },
  {
   "cell_type": "code",
   "execution_count": 5,
   "id": "b0298700",
   "metadata": {},
   "outputs": [
    {
     "name": "stdout",
     "output_type": "stream",
     "text": [
      "(2548, 200)\n"
     ]
    }
   ],
   "source": [
    "entity_emb = np.load('./ckpts/results_in_paper/CTKG_TransE_l2_entity.npy')\n",
    "\n",
    "idx = np.asarray(list(id2entity.keys()), dtype=int)\n",
    "entity_emb = entity_emb[idx]\n",
    "\n",
    "print(entity_emb.shape)"
   ]
  },
  {
   "cell_type": "code",
   "execution_count": 6,
   "id": "abc7d9d4",
   "metadata": {},
   "outputs": [],
   "source": [
    "from sklearn.metrics.pairwise import cosine_similarity\n",
    "\n",
    "similarity = cosine_similarity(entity_emb)\n",
    "# cleanup self-compare and dup-compare\n",
    "s = similarity < 0.99\n",
    "s = np.unique(similarity[s])"
   ]
  },
  {
   "cell_type": "code",
   "execution_count": 7,
   "id": "63a0b6b9",
   "metadata": {
    "scrolled": true
   },
   "outputs": [
    {
     "data": {
      "image/png": "[encoded data removed]",
      "text/plain": [
       "<Figure size 432x288 with 1 Axes>"
      ]
     },
     "metadata": {
      "needs_background": "light"
     },
     "output_type": "display_data"
    }
   ],
   "source": [
    "import matplotlib.pyplot as plt\n",
    "plt.xlabel('Cosine similarity')\n",
    "plt.ylabel('Number of entity pairs')\n",
    "plt.hist(s)\n",
    "plt.show()"
   ]
  },
  {
   "cell_type": "code",
   "execution_count": 8,
   "id": "b4cfed36",
   "metadata": {},
   "outputs": [
    {
     "data": {
      "text/plain": [
       "[('\"Sunitinib\"', '\"abaloparatide\"', 0.9968193),\n",
       " ('\"Gefarnate\"', '\"leo 80185\"', 0.996232),\n",
       " ('\"Interleukin-2\"', '\"Glycosaminoglycans\"', 0.9945157),\n",
       " ('\"ril-21\"', '\"Rilotumumab\"', 0.99410427),\n",
       " ('\"benazepril\"', '\"Clomiphene\"', 0.99270356),\n",
       " ('\"Vasoconstrictor Agents\"', '\"pd-0332991\"', 0.9853355),\n",
       " ('\"cb-183\"', '\"Aspartate Aminotransferases\"', 0.98258775),\n",
       " ('\"Imipenem\"', '\"Enoxaparin\"', 0.98235387),\n",
       " ('\"Mydriatics\"', '\"ly2216684\"', 0.98150253),\n",
       " ('\"oraplus\"', '\"Vincristine\"', 0.98022765),\n",
       " ('\"Yttrium-90\"', '\"Substance P\"', 0.97824264),\n",
       " ('\"L-BLP25\"', '\"Acitretin\"', 0.97557855),\n",
       " ('\"Rilotumumab\"', '\"Acetates\"', 0.97530264),\n",
       " ('\"ivacaftor\"', '\"Benzodioxoles\"', 0.97392225),\n",
       " ('\"DNA', '\"Cosmetics\"', 0.97356576),\n",
       " ('\"Nitrofurantoin\"', '\"Xalacom\"', 0.9700233),\n",
       " ('\"Enalapril\"', '\"Substance P\"', 0.9694458),\n",
       " ('\"Caffeine\"', '\"Amphetamines\"', 0.96895427),\n",
       " ('\"Exenatide\"', '\"Oxadiazoles\"', 0.9679967),\n",
       " ('\"Sulfamethoxazole\"', '\"Acrylic Resins\"', 0.96656275)]"
      ]
     },
     "execution_count": 8,
     "metadata": {},
     "output_type": "execute_result"
    }
   ],
   "source": [
    "import pdb\n",
    "from sklearn.metrics.pairwise import cosine_similarity\n",
    "\n",
    "similarity = cosine_similarity(entity_emb)\n",
    "np.save(type_of_interest+'_similarity', similarity)\n",
    "idx = np.flip(np.argsort(similarity), axis=1)\n",
    "\n",
    "with open(type_of_interest+'_entityName.txt', 'w') as f:\n",
    "    for i in range(idx.shape[0]):\n",
    "        if type_of_interest == 'Study':\n",
    "            f.write(cid2entity[i]+'\\n')\n",
    "        else:\n",
    "            f.write(entity2name[cid2entity[i]]+'\\n')\n",
    "\n",
    "\n",
    "max_pairs = []\n",
    "for i in range(idx.shape[0]):\n",
    "    j = 1\n",
    "    while (similarity[i][idx[i][j]] > 0.5):\n",
    "        if type_of_interest == 'Study':\n",
    "            max_pairs.append((cid2entity[idx[i][0]], cid2entity[idx[i][j]], similarity[i][idx[i][j]]))\n",
    "        else:\n",
    "            max_pairs.append((entity2name[cid2entity[idx[i][0]]], entity2name[cid2entity[idx[i][j]]], similarity[i][idx[i][j]]))\n",
    "        j += 1\n",
    "\n",
    "def sort_score(pair):\n",
    "    return pair[2]\n",
    "\n",
    "max_pairs.sort(reverse=True, key=sort_score)\n",
    "sim_pairs = []\n",
    "for i, pair in enumerate(max_pairs):\n",
    "    if i % 2 == 0:\n",
    "        sim_pairs.append(pair)\n",
    "\n",
    "sim_pairs[:20]"
   ]
  },
  {
   "cell_type": "code",
   "execution_count": 9,
   "id": "f61e32c1-4f59-4825-9290-3f908e4311c9",
   "metadata": {},
   "outputs": [
    {
     "data": {
      "text/plain": [
       "0.25388163"
      ]
     },
     "execution_count": 9,
     "metadata": {},
     "output_type": "execute_result"
    }
   ],
   "source": [
    "similarity.mean()"
   ]
  },
  {
   "cell_type": "code",
   "execution_count": 10,
   "id": "8355c936-36bc-4276-8803-5f7028d37703",
   "metadata": {},
   "outputs": [],
   "source": [
    "#max_pairs[1]"
   ]
  },
  {
   "cell_type": "code",
   "execution_count": 11,
   "id": "205e7bd6-cbd9-4362-8ec8-2df96c2cbdb8",
   "metadata": {},
   "outputs": [],
   "source": [
    "#max_pairs[1][0]"
   ]
  },
  {
   "cell_type": "code",
   "execution_count": 12,
   "id": "0204f235-2dc2-4447-8004-8290b535a5d6",
   "metadata": {},
   "outputs": [],
   "source": [
    "#for i, pair in enumerate(max_pairs):\n",
    "#    if pair[0] == 'Study::NCT02105688' and pair[2] > 0.5:\n",
    "#        print(pair)"
   ]
  },
  {
   "cell_type": "code",
   "execution_count": null,
   "id": "fd8e4590-5da8-42ef-8724-f5e9012e80d3",
   "metadata": {},
   "outputs": [],
   "source": []
  }
 ],
 "metadata": {
  "kernelspec": {
   "display_name": "DGL",
   "language": "python",
   "name": "dgl"
  },
  "language_info": {
   "codemirror_mode": {
    "name": "ipython",
    "version": 3
   },
   "file_extension": ".py",
   "mimetype": "text/x-python",
   "name": "python",
   "nbconvert_exporter": "python",
   "pygments_lexer": "ipython3",
   "version": "3.7.11"
  }
 },
 "nbformat": 4,
 "nbformat_minor": 5
}
